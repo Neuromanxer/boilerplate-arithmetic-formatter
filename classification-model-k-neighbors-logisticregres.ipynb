{
 "cells": [
  {
   "cell_type": "code",
   "execution_count": 1,
   "id": "8c9533af",
   "metadata": {
    "_cell_guid": "b1076dfc-b9ad-4769-8c92-a6c4dae69d19",
    "_uuid": "8f2839f25d086af736a60e9eeb907d3b93b6e0e5",
    "execution": {
     "iopub.execute_input": "2024-05-26T23:51:57.656687Z",
     "iopub.status.busy": "2024-05-26T23:51:57.656114Z",
     "iopub.status.idle": "2024-05-26T23:52:01.427189Z",
     "shell.execute_reply": "2024-05-26T23:52:01.425446Z"
    },
    "papermill": {
     "duration": 3.790126,
     "end_time": "2024-05-26T23:52:01.430832",
     "exception": false,
     "start_time": "2024-05-26T23:51:57.640706",
     "status": "completed"
    },
    "tags": []
   },
   "outputs": [],
   "source": [
    "import pandas as pd\n",
    "from sklearn.model_selection import train_test_split\n",
    "from sklearn.preprocessing import StandardScaler, OneHotEncoder\n",
    "from sklearn.compose import ColumnTransformer\n",
    "from sklearn.pipeline import Pipeline\n",
    "import seaborn as sns\n",
    "import numpy as np\n",
    "import matplotlib.pyplot as plt\n",
    "from sklearn.linear_model import LogisticRegression\n",
    "from sklearn.ensemble import RandomForestClassifier, GradientBoostingClassifier\n",
    "from sklearn.svm import SVC\n",
    "from sklearn.metrics import classification_report, roc_auc_score"
   ]
  },
  {
   "cell_type": "code",
   "execution_count": 2,
   "id": "d6176a91",
   "metadata": {
    "execution": {
     "iopub.execute_input": "2024-05-26T23:52:01.457320Z",
     "iopub.status.busy": "2024-05-26T23:52:01.455669Z",
     "iopub.status.idle": "2024-05-26T23:52:01.469924Z",
     "shell.execute_reply": "2024-05-26T23:52:01.468542Z"
    },
    "papermill": {
     "duration": 0.030637,
     "end_time": "2024-05-26T23:52:01.472976",
     "exception": false,
     "start_time": "2024-05-26T23:52:01.442339",
     "status": "completed"
    },
    "tags": []
   },
   "outputs": [
    {
     "name": "stdout",
     "output_type": "stream",
     "text": [
      "/kaggle/input/disease-symptoms-and-patient-profile-dataset/Disease_symptom_and_patient_profile_dataset.csv\n"
     ]
    }
   ],
   "source": [
    "import os\n",
    "for dirname, _, filenames in os.walk('/kaggle/input'):\n",
    "    for filename in filenames:\n",
    "        print(os.path.join(dirname, filename))\n"
   ]
  },
  {
   "cell_type": "code",
   "execution_count": 3,
   "id": "3b837922",
   "metadata": {
    "execution": {
     "iopub.execute_input": "2024-05-26T23:52:01.497240Z",
     "iopub.status.busy": "2024-05-26T23:52:01.496218Z",
     "iopub.status.idle": "2024-05-26T23:52:01.521595Z",
     "shell.execute_reply": "2024-05-26T23:52:01.520379Z"
    },
    "papermill": {
     "duration": 0.041636,
     "end_time": "2024-05-26T23:52:01.525422",
     "exception": false,
     "start_time": "2024-05-26T23:52:01.483786",
     "status": "completed"
    },
    "tags": []
   },
   "outputs": [],
   "source": [
    "df = pd.read_csv('/kaggle/input/disease-symptoms-and-patient-profile-dataset/Disease_symptom_and_patient_profile_dataset.csv')"
   ]
  },
  {
   "cell_type": "code",
   "execution_count": 4,
   "id": "ae04ffea",
   "metadata": {
    "execution": {
     "iopub.execute_input": "2024-05-26T23:52:01.549418Z",
     "iopub.status.busy": "2024-05-26T23:52:01.548458Z",
     "iopub.status.idle": "2024-05-26T23:52:01.579229Z",
     "shell.execute_reply": "2024-05-26T23:52:01.577709Z"
    },
    "papermill": {
     "duration": 0.046471,
     "end_time": "2024-05-26T23:52:01.582552",
     "exception": false,
     "start_time": "2024-05-26T23:52:01.536081",
     "status": "completed"
    },
    "tags": []
   },
   "outputs": [
    {
     "data": {
      "text/plain": [
       "<bound method NDFrame.head of          Disease Fever Cough Fatigue Difficulty Breathing  Age  Gender  \\\n",
       "0      Influenza   Yes    No     Yes                  Yes   19  Female   \n",
       "1    Common Cold    No   Yes     Yes                   No   25  Female   \n",
       "2         Eczema    No   Yes     Yes                   No   25  Female   \n",
       "3         Asthma   Yes   Yes      No                  Yes   25    Male   \n",
       "4         Asthma   Yes   Yes      No                  Yes   25    Male   \n",
       "..           ...   ...   ...     ...                  ...  ...     ...   \n",
       "344       Stroke   Yes    No     Yes                   No   80  Female   \n",
       "345       Stroke   Yes    No     Yes                   No   85    Male   \n",
       "346       Stroke   Yes    No     Yes                   No   85    Male   \n",
       "347       Stroke   Yes    No     Yes                   No   90  Female   \n",
       "348       Stroke   Yes    No     Yes                   No   90  Female   \n",
       "\n",
       "    Blood Pressure Cholesterol Level Outcome Variable  \n",
       "0              Low            Normal         Positive  \n",
       "1           Normal            Normal         Negative  \n",
       "2           Normal            Normal         Negative  \n",
       "3           Normal            Normal         Positive  \n",
       "4           Normal            Normal         Positive  \n",
       "..             ...               ...              ...  \n",
       "344           High              High         Positive  \n",
       "345           High              High         Positive  \n",
       "346           High              High         Positive  \n",
       "347           High              High         Positive  \n",
       "348           High              High         Positive  \n",
       "\n",
       "[349 rows x 10 columns]>"
      ]
     },
     "execution_count": 4,
     "metadata": {},
     "output_type": "execute_result"
    }
   ],
   "source": [
    "df.head"
   ]
  },
  {
   "cell_type": "code",
   "execution_count": 5,
   "id": "da971235",
   "metadata": {
    "execution": {
     "iopub.execute_input": "2024-05-26T23:52:01.606307Z",
     "iopub.status.busy": "2024-05-26T23:52:01.605770Z",
     "iopub.status.idle": "2024-05-26T23:52:01.624102Z",
     "shell.execute_reply": "2024-05-26T23:52:01.622643Z"
    },
    "papermill": {
     "duration": 0.03428,
     "end_time": "2024-05-26T23:52:01.627458",
     "exception": false,
     "start_time": "2024-05-26T23:52:01.593178",
     "status": "completed"
    },
    "tags": []
   },
   "outputs": [
    {
     "data": {
      "text/plain": [
       "49"
      ]
     },
     "execution_count": 5,
     "metadata": {},
     "output_type": "execute_result"
    }
   ],
   "source": [
    "df.duplicated().sum()"
   ]
  },
  {
   "cell_type": "code",
   "execution_count": 6,
   "id": "3ad9ad60",
   "metadata": {
    "execution": {
     "iopub.execute_input": "2024-05-26T23:52:01.653548Z",
     "iopub.status.busy": "2024-05-26T23:52:01.652749Z",
     "iopub.status.idle": "2024-05-26T23:52:01.673646Z",
     "shell.execute_reply": "2024-05-26T23:52:01.672346Z"
    },
    "papermill": {
     "duration": 0.037861,
     "end_time": "2024-05-26T23:52:01.676310",
     "exception": false,
     "start_time": "2024-05-26T23:52:01.638449",
     "status": "completed"
    },
    "tags": []
   },
   "outputs": [
    {
     "data": {
      "text/html": [
       "<div>\n",
       "<style scoped>\n",
       "    .dataframe tbody tr th:only-of-type {\n",
       "        vertical-align: middle;\n",
       "    }\n",
       "\n",
       "    .dataframe tbody tr th {\n",
       "        vertical-align: top;\n",
       "    }\n",
       "\n",
       "    .dataframe thead th {\n",
       "        text-align: right;\n",
       "    }\n",
       "</style>\n",
       "<table border=\"1\" class=\"dataframe\">\n",
       "  <thead>\n",
       "    <tr style=\"text-align: right;\">\n",
       "      <th></th>\n",
       "      <th>Disease</th>\n",
       "      <th>Fever</th>\n",
       "      <th>Cough</th>\n",
       "      <th>Fatigue</th>\n",
       "      <th>Difficulty Breathing</th>\n",
       "      <th>Age</th>\n",
       "      <th>Gender</th>\n",
       "      <th>Blood Pressure</th>\n",
       "      <th>Cholesterol Level</th>\n",
       "      <th>Outcome Variable</th>\n",
       "    </tr>\n",
       "  </thead>\n",
       "  <tbody>\n",
       "    <tr>\n",
       "      <th>0</th>\n",
       "      <td>Influenza</td>\n",
       "      <td>Yes</td>\n",
       "      <td>No</td>\n",
       "      <td>Yes</td>\n",
       "      <td>Yes</td>\n",
       "      <td>19</td>\n",
       "      <td>Female</td>\n",
       "      <td>Low</td>\n",
       "      <td>Normal</td>\n",
       "      <td>Positive</td>\n",
       "    </tr>\n",
       "    <tr>\n",
       "      <th>1</th>\n",
       "      <td>Common Cold</td>\n",
       "      <td>No</td>\n",
       "      <td>Yes</td>\n",
       "      <td>Yes</td>\n",
       "      <td>No</td>\n",
       "      <td>25</td>\n",
       "      <td>Female</td>\n",
       "      <td>Normal</td>\n",
       "      <td>Normal</td>\n",
       "      <td>Negative</td>\n",
       "    </tr>\n",
       "    <tr>\n",
       "      <th>2</th>\n",
       "      <td>Eczema</td>\n",
       "      <td>No</td>\n",
       "      <td>Yes</td>\n",
       "      <td>Yes</td>\n",
       "      <td>No</td>\n",
       "      <td>25</td>\n",
       "      <td>Female</td>\n",
       "      <td>Normal</td>\n",
       "      <td>Normal</td>\n",
       "      <td>Negative</td>\n",
       "    </tr>\n",
       "    <tr>\n",
       "      <th>3</th>\n",
       "      <td>Asthma</td>\n",
       "      <td>Yes</td>\n",
       "      <td>Yes</td>\n",
       "      <td>No</td>\n",
       "      <td>Yes</td>\n",
       "      <td>25</td>\n",
       "      <td>Male</td>\n",
       "      <td>Normal</td>\n",
       "      <td>Normal</td>\n",
       "      <td>Positive</td>\n",
       "    </tr>\n",
       "    <tr>\n",
       "      <th>4</th>\n",
       "      <td>Asthma</td>\n",
       "      <td>Yes</td>\n",
       "      <td>Yes</td>\n",
       "      <td>No</td>\n",
       "      <td>Yes</td>\n",
       "      <td>25</td>\n",
       "      <td>Male</td>\n",
       "      <td>Normal</td>\n",
       "      <td>Normal</td>\n",
       "      <td>Positive</td>\n",
       "    </tr>\n",
       "  </tbody>\n",
       "</table>\n",
       "</div>"
      ],
      "text/plain": [
       "       Disease Fever Cough Fatigue Difficulty Breathing  Age  Gender  \\\n",
       "0    Influenza   Yes    No     Yes                  Yes   19  Female   \n",
       "1  Common Cold    No   Yes     Yes                   No   25  Female   \n",
       "2       Eczema    No   Yes     Yes                   No   25  Female   \n",
       "3       Asthma   Yes   Yes      No                  Yes   25    Male   \n",
       "4       Asthma   Yes   Yes      No                  Yes   25    Male   \n",
       "\n",
       "  Blood Pressure Cholesterol Level Outcome Variable  \n",
       "0            Low            Normal         Positive  \n",
       "1         Normal            Normal         Negative  \n",
       "2         Normal            Normal         Negative  \n",
       "3         Normal            Normal         Positive  \n",
       "4         Normal            Normal         Positive  "
      ]
     },
     "execution_count": 6,
     "metadata": {},
     "output_type": "execute_result"
    }
   ],
   "source": [
    "df.head()"
   ]
  },
  {
   "cell_type": "code",
   "execution_count": 7,
   "id": "be62efbb",
   "metadata": {
    "execution": {
     "iopub.execute_input": "2024-05-26T23:52:01.704243Z",
     "iopub.status.busy": "2024-05-26T23:52:01.703032Z",
     "iopub.status.idle": "2024-05-26T23:52:02.022784Z",
     "shell.execute_reply": "2024-05-26T23:52:02.021795Z"
    },
    "papermill": {
     "duration": 0.337514,
     "end_time": "2024-05-26T23:52:02.025354",
     "exception": false,
     "start_time": "2024-05-26T23:52:01.687840",
     "status": "completed"
    },
    "tags": []
   },
   "outputs": [
    {
     "data": {
      "image/png": "[encoded data removed]",
      "text/plain": [
       "<Figure size 640x480 with 1 Axes>"
      ]
     },
     "metadata": {},
     "output_type": "display_data"
    }
   ],
   "source": [
    "# Bar plot for Gender\n",
    "sns.countplot(x='Gender', data=df)\n",
    "plt.title('Distribution of Gender')\n",
    "plt.show()"
   ]
  },
  {
   "cell_type": "code",
   "execution_count": 8,
   "id": "c207326c",
   "metadata": {
    "execution": {
     "iopub.execute_input": "2024-05-26T23:52:02.052514Z",
     "iopub.status.busy": "2024-05-26T23:52:02.051741Z",
     "iopub.status.idle": "2024-05-26T23:52:03.791930Z",
     "shell.execute_reply": "2024-05-26T23:52:03.790972Z"
    },
    "papermill": {
     "duration": 1.75835,
     "end_time": "2024-05-26T23:52:03.795018",
     "exception": false,
     "start_time": "2024-05-26T23:52:02.036668",
     "status": "completed"
    },
    "tags": []
   },
   "outputs": [
    {
     "name": "stderr",
     "output_type": "stream",
     "text": [
      "/opt/conda/lib/python3.10/site-packages/seaborn/_oldcore.py:1119: FutureWarning: use_inf_as_na option is deprecated and will be removed in a future version. Convert inf values to NaN before operating instead.\n",
      "  with pd.option_context('mode.use_inf_as_na', True):\n",
      "/opt/conda/lib/python3.10/site-packages/seaborn/_oldcore.py:1119: FutureWarning: use_inf_as_na option is deprecated and will be removed in a future version. Convert inf values to NaN before operating instead.\n",
      "  with pd.option_context('mode.use_inf_as_na', True):\n",
      "/opt/conda/lib/python3.10/site-packages/seaborn/_oldcore.py:1075: FutureWarning: When grouping with a length-1 list-like, you will need to pass a length-1 tuple to get_group in a future version of pandas. Pass `(name,)` instead of `name` to silence this warning.\n",
      "  data_subset = grouped_data.get_group(pd_key)\n"
     ]
    },
    {
     "data": {
      "text/plain": [
       "<seaborn.axisgrid.FacetGrid at 0x788ec94f6b30>"
      ]
     },
     "execution_count": 8,
     "metadata": {},
     "output_type": "execute_result"
    },
    {
     "data": {
      "image/png": "[encoded data removed]",
      "text/plain": [
       "<Figure size 500x500 with 1 Axes>"
      ]
     },
     "metadata": {},
     "output_type": "display_data"
    }
   ],
   "source": [
    "sns.catplot(x = 'Outcome Variable' , y = 'Age' , data = df , kind = \"swarm\")  "
   ]
  },
  {
   "cell_type": "code",
   "execution_count": 9,
   "id": "d69190e8",
   "metadata": {
    "execution": {
     "iopub.execute_input": "2024-05-26T23:52:03.821253Z",
     "iopub.status.busy": "2024-05-26T23:52:03.820846Z",
     "iopub.status.idle": "2024-05-26T23:52:04.369223Z",
     "shell.execute_reply": "2024-05-26T23:52:04.368132Z"
    },
    "papermill": {
     "duration": 0.56492,
     "end_time": "2024-05-26T23:52:04.372273",
     "exception": false,
     "start_time": "2024-05-26T23:52:03.807353",
     "status": "completed"
    },
    "tags": []
   },
   "outputs": [
    {
     "name": "stderr",
     "output_type": "stream",
     "text": [
      "/opt/conda/lib/python3.10/site-packages/seaborn/_oldcore.py:1119: FutureWarning: use_inf_as_na option is deprecated and will be removed in a future version. Convert inf values to NaN before operating instead.\n",
      "  with pd.option_context('mode.use_inf_as_na', True):\n"
     ]
    },
    {
     "data": {
      "text/plain": [
       "<seaborn.axisgrid.FacetGrid at 0x788ee9247160>"
      ]
     },
     "execution_count": 9,
     "metadata": {},
     "output_type": "execute_result"
    },
    {
     "data": {
      "image/png": "[encoded data removed]",
      "text/plain": [
       "<Figure size 500x500 with 1 Axes>"
      ]
     },
     "metadata": {},
     "output_type": "display_data"
    }
   ],
   "source": [
    "sns.displot(df['Age'] , kde=True)"
   ]
  },
  {
   "cell_type": "code",
   "execution_count": 10,
   "id": "72ff0d36",
   "metadata": {
    "execution": {
     "iopub.execute_input": "2024-05-26T23:52:04.399961Z",
     "iopub.status.busy": "2024-05-26T23:52:04.399535Z",
     "iopub.status.idle": "2024-05-26T23:52:04.413431Z",
     "shell.execute_reply": "2024-05-26T23:52:04.412269Z"
    },
    "papermill": {
     "duration": 0.030805,
     "end_time": "2024-05-26T23:52:04.416391",
     "exception": false,
     "start_time": "2024-05-26T23:52:04.385586",
     "status": "completed"
    },
    "tags": []
   },
   "outputs": [],
   "source": [
    "# Split data into train and test sets\n",
    "from sklearn.model_selection import train_test_split\n",
    "X = df.drop(['Outcome Variable'], axis=1)\n",
    "y = df['Outcome Variable']\n",
    "X_train, X_test, y_train, y_test = train_test_split(X, y, test_size=0.2, random_state=42, stratify=y)\n"
   ]
  },
  {
   "cell_type": "code",
   "execution_count": 11,
   "id": "08c9f51a",
   "metadata": {
    "execution": {
     "iopub.execute_input": "2024-05-26T23:52:04.444095Z",
     "iopub.status.busy": "2024-05-26T23:52:04.443473Z",
     "iopub.status.idle": "2024-05-26T23:52:04.447691Z",
     "shell.execute_reply": "2024-05-26T23:52:04.446847Z"
    },
    "papermill": {
     "duration": 0.021128,
     "end_time": "2024-05-26T23:52:04.449870",
     "exception": false,
     "start_time": "2024-05-26T23:52:04.428742",
     "status": "completed"
    },
    "tags": []
   },
   "outputs": [],
   "source": [
    "from sklearn.preprocessing import OrdinalEncoder, OneHotEncoder, StandardScaler\n",
    "# Initialize StandardScaler"
   ]
  },
  {
   "cell_type": "code",
   "execution_count": 12,
   "id": "79ff58ba",
   "metadata": {
    "execution": {
     "iopub.execute_input": "2024-05-26T23:52:04.476710Z",
     "iopub.status.busy": "2024-05-26T23:52:04.476098Z",
     "iopub.status.idle": "2024-05-26T23:52:04.485260Z",
     "shell.execute_reply": "2024-05-26T23:52:04.484347Z"
    },
    "papermill": {
     "duration": 0.025281,
     "end_time": "2024-05-26T23:52:04.487681",
     "exception": false,
     "start_time": "2024-05-26T23:52:04.462400",
     "status": "completed"
    },
    "tags": []
   },
   "outputs": [],
   "source": [
    "\n",
    "# Splitting into training and test sets\n",
    "X_train, X_test, y_train, y_test = train_test_split(X, y, test_size=0.2, random_state=42)\n",
    "\n",
    "# Define the feature categories\n",
    "binary_cols = ['Fever', 'Cough', 'Fatigue', 'Difficulty Breathing']\n",
    "categorical_cols = ['Blood Pressure', 'Cholesterol Level', 'Gender']\n",
    "numerical_cols = ['Age']\n",
    "\n",
    "# Define transformers\n",
    "ordinal_transformer = OrdinalEncoder(categories=[['No', 'Yes']] * len(binary_cols))\n",
    "onehot_transformer = OneHotEncoder(drop='first', sparse=False)\n",
    "scaler = StandardScaler()\n",
    "\n",
    "# Create preprocessing pipeline\n",
    "preprocessor = ColumnTransformer(\n",
    "    transformers=[\n",
    "        ('binary', ordinal_transformer, binary_cols),\n",
    "        ('categorical', onehot_transformer, categorical_cols),\n",
    "        ('scaler', scaler, numerical_cols)\n",
    "    ]\n",
    ")\n"
   ]
  },
  {
   "cell_type": "code",
   "execution_count": 13,
   "id": "550cbaa8",
   "metadata": {
    "execution": {
     "iopub.execute_input": "2024-05-26T23:52:04.514489Z",
     "iopub.status.busy": "2024-05-26T23:52:04.513816Z",
     "iopub.status.idle": "2024-05-26T23:52:04.518536Z",
     "shell.execute_reply": "2024-05-26T23:52:04.517487Z"
    },
    "papermill": {
     "duration": 0.021134,
     "end_time": "2024-05-26T23:52:04.521108",
     "exception": false,
     "start_time": "2024-05-26T23:52:04.499974",
     "status": "completed"
    },
    "tags": []
   },
   "outputs": [],
   "source": [
    "onehot_encoder = OneHotEncoder(sparse=False)"
   ]
  },
  {
   "cell_type": "code",
   "execution_count": 14,
   "id": "aff76af8",
   "metadata": {
    "execution": {
     "iopub.execute_input": "2024-05-26T23:52:04.547515Z",
     "iopub.status.busy": "2024-05-26T23:52:04.547093Z",
     "iopub.status.idle": "2024-05-26T23:52:04.577840Z",
     "shell.execute_reply": "2024-05-26T23:52:04.576446Z"
    },
    "papermill": {
     "duration": 0.046809,
     "end_time": "2024-05-26T23:52:04.580232",
     "exception": false,
     "start_time": "2024-05-26T23:52:04.533423",
     "status": "completed"
    },
    "tags": []
   },
   "outputs": [
    {
     "name": "stderr",
     "output_type": "stream",
     "text": [
      "/opt/conda/lib/python3.10/site-packages/sklearn/preprocessing/_encoders.py:868: FutureWarning: `sparse` was renamed to `sparse_output` in version 1.2 and will be removed in 1.4. `sparse_output` is ignored unless you leave `sparse` to its default value.\n",
      "  warnings.warn(\n"
     ]
    }
   ],
   "source": [
    "X_train_transformed = preprocessor.fit_transform(X_train)\n",
    "x_test_transformed = preprocessor.transform(X_test)"
   ]
  },
  {
   "cell_type": "code",
   "execution_count": 15,
   "id": "97bd8438",
   "metadata": {
    "execution": {
     "iopub.execute_input": "2024-05-26T23:52:04.607711Z",
     "iopub.status.busy": "2024-05-26T23:52:04.606676Z",
     "iopub.status.idle": "2024-05-26T23:52:04.615956Z",
     "shell.execute_reply": "2024-05-26T23:52:04.614471Z"
    },
    "papermill": {
     "duration": 0.025949,
     "end_time": "2024-05-26T23:52:04.618883",
     "exception": false,
     "start_time": "2024-05-26T23:52:04.592934",
     "status": "completed"
    },
    "tags": []
   },
   "outputs": [
    {
     "name": "stderr",
     "output_type": "stream",
     "text": [
      "/opt/conda/lib/python3.10/site-packages/sklearn/preprocessing/_encoders.py:868: FutureWarning: `sparse` was renamed to `sparse_output` in version 1.2 and will be removed in 1.4. `sparse_output` is ignored unless you leave `sparse` to its default value.\n",
      "  warnings.warn(\n"
     ]
    }
   ],
   "source": [
    "y_train_reshaped = np.array(y_train).reshape(-1, 1)\n",
    "y_test_reshaped = np.array(y_test).reshape(-1, 1)\n",
    "\n",
    "# Fit and transform the training data\n",
    "y_train_encoded = onehot_encoder.fit_transform(y_train_reshaped)\n",
    "\n",
    "# Transform the test data\n",
    "y_test_encoded = onehot_encoder.transform(y_test_reshaped)"
   ]
  },
  {
   "cell_type": "code",
   "execution_count": 16,
   "id": "9f820a7a",
   "metadata": {
    "execution": {
     "iopub.execute_input": "2024-05-26T23:52:04.647714Z",
     "iopub.status.busy": "2024-05-26T23:52:04.646395Z",
     "iopub.status.idle": "2024-05-26T23:52:04.653419Z",
     "shell.execute_reply": "2024-05-26T23:52:04.651909Z"
    },
    "papermill": {
     "duration": 0.024162,
     "end_time": "2024-05-26T23:52:04.656099",
     "exception": false,
     "start_time": "2024-05-26T23:52:04.631937",
     "status": "completed"
    },
    "tags": []
   },
   "outputs": [],
   "source": [
    "X = df.drop(['Outcome Variable'], axis= 1)\n",
    "y = df['Outcome Variable']"
   ]
  },
  {
   "cell_type": "code",
   "execution_count": 17,
   "id": "707e20c7",
   "metadata": {
    "execution": {
     "iopub.execute_input": "2024-05-26T23:52:04.685383Z",
     "iopub.status.busy": "2024-05-26T23:52:04.684234Z",
     "iopub.status.idle": "2024-05-26T23:52:04.693053Z",
     "shell.execute_reply": "2024-05-26T23:52:04.692117Z"
    },
    "papermill": {
     "duration": 0.026489,
     "end_time": "2024-05-26T23:52:04.695607",
     "exception": false,
     "start_time": "2024-05-26T23:52:04.669118",
     "status": "completed"
    },
    "tags": []
   },
   "outputs": [],
   "source": [
    "X_train, X_test, y_train, y_test = train_test_split(X,y,test_size=0.2,random_state=42,stratify=y)"
   ]
  },
  {
   "cell_type": "code",
   "execution_count": 18,
   "id": "dcc8f4c4",
   "metadata": {
    "execution": {
     "iopub.execute_input": "2024-05-26T23:52:04.724149Z",
     "iopub.status.busy": "2024-05-26T23:52:04.722702Z",
     "iopub.status.idle": "2024-05-26T23:52:04.731142Z",
     "shell.execute_reply": "2024-05-26T23:52:04.730214Z"
    },
    "papermill": {
     "duration": 0.024903,
     "end_time": "2024-05-26T23:52:04.733563",
     "exception": false,
     "start_time": "2024-05-26T23:52:04.708660",
     "status": "completed"
    },
    "tags": []
   },
   "outputs": [],
   "source": [
    "def compare_algorithms(X_train, y_train, algorithms, cv=5, scoring='accuracy'):\n",
    "    results = {}\n",
    "    \n",
    "    for name, algorithm in algorithms.items():\n",
    "        # Perform cross-validation\n",
    "        scores = cross_val_score(algorithm, X_train, y_train, cv=cv, scoring=scoring)\n",
    "        \n",
    "        # Store the mean and standard deviation of the scores\n",
    "        results[name] = {\n",
    "            'mean_accuracy': np.mean(scores),\n",
    "            'std_accuracy': np.std(scores)\n",
    "        }\n",
    "        \n",
    "        # Print the results for each algorithm\n",
    "        print(f\"{name} - Mean Accuracy: {results[name]['mean_accuracy']:.4f} | Std Accuracy: {results[name]['std_accuracy']:.4f}\")\n",
    "    \n",
    "    return results"
   ]
  },
  {
   "cell_type": "code",
   "execution_count": 19,
   "id": "f225254b",
   "metadata": {
    "execution": {
     "iopub.execute_input": "2024-05-26T23:52:04.761228Z",
     "iopub.status.busy": "2024-05-26T23:52:04.760611Z",
     "iopub.status.idle": "2024-05-26T23:52:04.770315Z",
     "shell.execute_reply": "2024-05-26T23:52:04.769387Z"
    },
    "papermill": {
     "duration": 0.026337,
     "end_time": "2024-05-26T23:52:04.772827",
     "exception": false,
     "start_time": "2024-05-26T23:52:04.746490",
     "status": "completed"
    },
    "tags": []
   },
   "outputs": [],
   "source": [
    "def plot_accuracies(accuracies):\n",
    "    \"\"\"\n",
    "    Plots the mean accuracies and their standard deviations for different algorithms.\n",
    "    \n",
    "    Parameters:\n",
    "    accuracies (dict): A dictionary where keys are algorithm names and values are dictionaries\n",
    "                       containing 'mean_accuracy' and 'std_accuracy'.\n",
    "    \"\"\"\n",
    "    # Extracting algorithm names, mean accuracies, and standard deviations\n",
    "    names = list(accuracies.keys())\n",
    "    mean_accuracies = [accuracies[name]['mean_accuracy'] for name in names]\n",
    "    std_accuracies = [accuracies[name]['std_accuracy'] for name in names]\n",
    "    \n",
    "    # Creating the bar plot\n",
    "    plt.figure(figsize=(10, 6))\n",
    "    plt.bar(names, mean_accuracies, yerr=std_accuracies, capsize=5, color='skyblue', alpha=0.7)\n",
    "    \n",
    "    # Adding plot details\n",
    "    plt.xlabel('Algorithms')\n",
    "    plt.ylabel('Mean Accuracy')\n",
    "    plt.title('Algorithm Comparison: Mean Accuracy with Standard Deviation')\n",
    "    plt.ylim(0, 1)  # Accuracy ranges from 0 to 1\n",
    "    plt.xticks(rotation=45)\n",
    "    plt.grid(axis='y', linestyle='--', alpha=0.7)\n",
    "    \n",
    "    # Display the plot\n",
    "    plt.tight_layout()\n",
    "    plt.show()"
   ]
  },
  {
   "cell_type": "code",
   "execution_count": 20,
   "id": "ce27c2e7",
   "metadata": {
    "execution": {
     "iopub.execute_input": "2024-05-26T23:52:04.801149Z",
     "iopub.status.busy": "2024-05-26T23:52:04.800514Z",
     "iopub.status.idle": "2024-05-26T23:52:04.818172Z",
     "shell.execute_reply": "2024-05-26T23:52:04.817024Z"
    },
    "papermill": {
     "duration": 0.034956,
     "end_time": "2024-05-26T23:52:04.820626",
     "exception": false,
     "start_time": "2024-05-26T23:52:04.785670",
     "status": "completed"
    },
    "tags": []
   },
   "outputs": [
    {
     "data": {
      "text/html": [
       "<div>\n",
       "<style scoped>\n",
       "    .dataframe tbody tr th:only-of-type {\n",
       "        vertical-align: middle;\n",
       "    }\n",
       "\n",
       "    .dataframe tbody tr th {\n",
       "        vertical-align: top;\n",
       "    }\n",
       "\n",
       "    .dataframe thead th {\n",
       "        text-align: right;\n",
       "    }\n",
       "</style>\n",
       "<table border=\"1\" class=\"dataframe\">\n",
       "  <thead>\n",
       "    <tr style=\"text-align: right;\">\n",
       "      <th></th>\n",
       "      <th>Disease</th>\n",
       "      <th>Fever</th>\n",
       "      <th>Cough</th>\n",
       "      <th>Fatigue</th>\n",
       "      <th>Difficulty Breathing</th>\n",
       "      <th>Age</th>\n",
       "      <th>Gender</th>\n",
       "      <th>Blood Pressure</th>\n",
       "      <th>Cholesterol Level</th>\n",
       "    </tr>\n",
       "  </thead>\n",
       "  <tbody>\n",
       "    <tr>\n",
       "      <th>88</th>\n",
       "      <td>Migraine</td>\n",
       "      <td>No</td>\n",
       "      <td>Yes</td>\n",
       "      <td>Yes</td>\n",
       "      <td>No</td>\n",
       "      <td>35</td>\n",
       "      <td>Male</td>\n",
       "      <td>High</td>\n",
       "      <td>High</td>\n",
       "    </tr>\n",
       "    <tr>\n",
       "      <th>83</th>\n",
       "      <td>Kidney Cancer</td>\n",
       "      <td>No</td>\n",
       "      <td>No</td>\n",
       "      <td>Yes</td>\n",
       "      <td>No</td>\n",
       "      <td>35</td>\n",
       "      <td>Male</td>\n",
       "      <td>High</td>\n",
       "      <td>High</td>\n",
       "    </tr>\n",
       "    <tr>\n",
       "      <th>267</th>\n",
       "      <td>Osteoporosis</td>\n",
       "      <td>Yes</td>\n",
       "      <td>No</td>\n",
       "      <td>Yes</td>\n",
       "      <td>No</td>\n",
       "      <td>55</td>\n",
       "      <td>Female</td>\n",
       "      <td>Normal</td>\n",
       "      <td>Normal</td>\n",
       "    </tr>\n",
       "    <tr>\n",
       "      <th>102</th>\n",
       "      <td>Liver Cancer</td>\n",
       "      <td>Yes</td>\n",
       "      <td>Yes</td>\n",
       "      <td>No</td>\n",
       "      <td>No</td>\n",
       "      <td>38</td>\n",
       "      <td>Female</td>\n",
       "      <td>High</td>\n",
       "      <td>Normal</td>\n",
       "    </tr>\n",
       "    <tr>\n",
       "      <th>270</th>\n",
       "      <td>Typhoid Fever</td>\n",
       "      <td>No</td>\n",
       "      <td>Yes</td>\n",
       "      <td>No</td>\n",
       "      <td>No</td>\n",
       "      <td>55</td>\n",
       "      <td>Male</td>\n",
       "      <td>Normal</td>\n",
       "      <td>Low</td>\n",
       "    </tr>\n",
       "    <tr>\n",
       "      <th>...</th>\n",
       "      <td>...</td>\n",
       "      <td>...</td>\n",
       "      <td>...</td>\n",
       "      <td>...</td>\n",
       "      <td>...</td>\n",
       "      <td>...</td>\n",
       "      <td>...</td>\n",
       "      <td>...</td>\n",
       "      <td>...</td>\n",
       "    </tr>\n",
       "    <tr>\n",
       "      <th>263</th>\n",
       "      <td>Osteoarthritis</td>\n",
       "      <td>Yes</td>\n",
       "      <td>Yes</td>\n",
       "      <td>No</td>\n",
       "      <td>No</td>\n",
       "      <td>55</td>\n",
       "      <td>Female</td>\n",
       "      <td>High</td>\n",
       "      <td>High</td>\n",
       "    </tr>\n",
       "    <tr>\n",
       "      <th>210</th>\n",
       "      <td>Crohn's Disease</td>\n",
       "      <td>Yes</td>\n",
       "      <td>Yes</td>\n",
       "      <td>Yes</td>\n",
       "      <td>No</td>\n",
       "      <td>50</td>\n",
       "      <td>Male</td>\n",
       "      <td>Normal</td>\n",
       "      <td>High</td>\n",
       "    </tr>\n",
       "    <tr>\n",
       "      <th>231</th>\n",
       "      <td>Klinefelter Syndrome</td>\n",
       "      <td>No</td>\n",
       "      <td>No</td>\n",
       "      <td>Yes</td>\n",
       "      <td>No</td>\n",
       "      <td>50</td>\n",
       "      <td>Female</td>\n",
       "      <td>Normal</td>\n",
       "      <td>Normal</td>\n",
       "    </tr>\n",
       "    <tr>\n",
       "      <th>154</th>\n",
       "      <td>Urinary Tract Infection</td>\n",
       "      <td>No</td>\n",
       "      <td>Yes</td>\n",
       "      <td>Yes</td>\n",
       "      <td>Yes</td>\n",
       "      <td>42</td>\n",
       "      <td>Female</td>\n",
       "      <td>Normal</td>\n",
       "      <td>Low</td>\n",
       "    </tr>\n",
       "    <tr>\n",
       "      <th>137</th>\n",
       "      <td>Pneumonia</td>\n",
       "      <td>Yes</td>\n",
       "      <td>Yes</td>\n",
       "      <td>Yes</td>\n",
       "      <td>Yes</td>\n",
       "      <td>40</td>\n",
       "      <td>Female</td>\n",
       "      <td>Normal</td>\n",
       "      <td>High</td>\n",
       "    </tr>\n",
       "  </tbody>\n",
       "</table>\n",
       "<p>70 rows × 9 columns</p>\n",
       "</div>"
      ],
      "text/plain": [
       "                     Disease Fever Cough Fatigue Difficulty Breathing  Age  \\\n",
       "88                  Migraine    No   Yes     Yes                   No   35   \n",
       "83             Kidney Cancer    No    No     Yes                   No   35   \n",
       "267             Osteoporosis   Yes    No     Yes                   No   55   \n",
       "102             Liver Cancer   Yes   Yes      No                   No   38   \n",
       "270            Typhoid Fever    No   Yes      No                   No   55   \n",
       "..                       ...   ...   ...     ...                  ...  ...   \n",
       "263           Osteoarthritis   Yes   Yes      No                   No   55   \n",
       "210          Crohn's Disease   Yes   Yes     Yes                   No   50   \n",
       "231     Klinefelter Syndrome    No    No     Yes                   No   50   \n",
       "154  Urinary Tract Infection    No   Yes     Yes                  Yes   42   \n",
       "137                Pneumonia   Yes   Yes     Yes                  Yes   40   \n",
       "\n",
       "     Gender Blood Pressure Cholesterol Level  \n",
       "88     Male           High              High  \n",
       "83     Male           High              High  \n",
       "267  Female         Normal            Normal  \n",
       "102  Female           High            Normal  \n",
       "270    Male         Normal               Low  \n",
       "..      ...            ...               ...  \n",
       "263  Female           High              High  \n",
       "210    Male         Normal              High  \n",
       "231  Female         Normal            Normal  \n",
       "154  Female         Normal               Low  \n",
       "137  Female         Normal              High  \n",
       "\n",
       "[70 rows x 9 columns]"
      ]
     },
     "execution_count": 20,
     "metadata": {},
     "output_type": "execute_result"
    }
   ],
   "source": [
    "df\n",
    "X_test"
   ]
  },
  {
   "cell_type": "code",
   "execution_count": null,
   "id": "160b93f2",
   "metadata": {
    "papermill": {
     "duration": 0.012972,
     "end_time": "2024-05-26T23:52:04.846597",
     "exception": false,
     "start_time": "2024-05-26T23:52:04.833625",
     "status": "completed"
    },
    "tags": []
   },
   "outputs": [],
   "source": []
  },
  {
   "cell_type": "code",
   "execution_count": 21,
   "id": "fa86949d",
   "metadata": {
    "execution": {
     "iopub.execute_input": "2024-05-26T23:52:04.875289Z",
     "iopub.status.busy": "2024-05-26T23:52:04.874654Z",
     "iopub.status.idle": "2024-05-26T23:52:04.894878Z",
     "shell.execute_reply": "2024-05-26T23:52:04.893743Z"
    },
    "papermill": {
     "duration": 0.037478,
     "end_time": "2024-05-26T23:52:04.897693",
     "exception": false,
     "start_time": "2024-05-26T23:52:04.860215",
     "status": "completed"
    },
    "tags": []
   },
   "outputs": [
    {
     "data": {
      "text/html": [
       "<style>#sk-container-id-1 {color: black;background-color: white;}#sk-container-id-1 pre{padding: 0;}#sk-container-id-1 div.sk-toggleable {background-color: white;}#sk-container-id-1 label.sk-toggleable__label {cursor: pointer;display: block;width: 100%;margin-bottom: 0;padding: 0.3em;box-sizing: border-box;text-align: center;}#sk-container-id-1 label.sk-toggleable__label-arrow:before {content: \"▸\";float: left;margin-right: 0.25em;color: #696969;}#sk-container-id-1 label.sk-toggleable__label-arrow:hover:before {color: black;}#sk-container-id-1 div.sk-estimator:hover label.sk-toggleable__label-arrow:before {color: black;}#sk-container-id-1 div.sk-toggleable__content {max-height: 0;max-width: 0;overflow: hidden;text-align: left;background-color: #f0f8ff;}#sk-container-id-1 div.sk-toggleable__content pre {margin: 0.2em;color: black;border-radius: 0.25em;background-color: #f0f8ff;}#sk-container-id-1 input.sk-toggleable__control:checked~div.sk-toggleable__content {max-height: 200px;max-width: 100%;overflow: auto;}#sk-container-id-1 input.sk-toggleable__control:checked~label.sk-toggleable__label-arrow:before {content: \"▾\";}#sk-container-id-1 div.sk-estimator input.sk-toggleable__control:checked~label.sk-toggleable__label {background-color: #d4ebff;}#sk-container-id-1 div.sk-label input.sk-toggleable__control:checked~label.sk-toggleable__label {background-color: #d4ebff;}#sk-container-id-1 input.sk-hidden--visually {border: 0;clip: rect(1px 1px 1px 1px);clip: rect(1px, 1px, 1px, 1px);height: 1px;margin: -1px;overflow: hidden;padding: 0;position: absolute;width: 1px;}#sk-container-id-1 div.sk-estimator {font-family: monospace;background-color: #f0f8ff;border: 1px dotted black;border-radius: 0.25em;box-sizing: border-box;margin-bottom: 0.5em;}#sk-container-id-1 div.sk-estimator:hover {background-color: #d4ebff;}#sk-container-id-1 div.sk-parallel-item::after {content: \"\";width: 100%;border-bottom: 1px solid gray;flex-grow: 1;}#sk-container-id-1 div.sk-label:hover label.sk-toggleable__label {background-color: #d4ebff;}#sk-container-id-1 div.sk-serial::before {content: \"\";position: absolute;border-left: 1px solid gray;box-sizing: border-box;top: 0;bottom: 0;left: 50%;z-index: 0;}#sk-container-id-1 div.sk-serial {display: flex;flex-direction: column;align-items: center;background-color: white;padding-right: 0.2em;padding-left: 0.2em;position: relative;}#sk-container-id-1 div.sk-item {position: relative;z-index: 1;}#sk-container-id-1 div.sk-parallel {display: flex;align-items: stretch;justify-content: center;background-color: white;position: relative;}#sk-container-id-1 div.sk-item::before, #sk-container-id-1 div.sk-parallel-item::before {content: \"\";position: absolute;border-left: 1px solid gray;box-sizing: border-box;top: 0;bottom: 0;left: 50%;z-index: -1;}#sk-container-id-1 div.sk-parallel-item {display: flex;flex-direction: column;z-index: 1;position: relative;background-color: white;}#sk-container-id-1 div.sk-parallel-item:first-child::after {align-self: flex-end;width: 50%;}#sk-container-id-1 div.sk-parallel-item:last-child::after {align-self: flex-start;width: 50%;}#sk-container-id-1 div.sk-parallel-item:only-child::after {width: 0;}#sk-container-id-1 div.sk-dashed-wrapped {border: 1px dashed gray;margin: 0 0.4em 0.5em 0.4em;box-sizing: border-box;padding-bottom: 0.4em;background-color: white;}#sk-container-id-1 div.sk-label label {font-family: monospace;font-weight: bold;display: inline-block;line-height: 1.2em;}#sk-container-id-1 div.sk-label-container {text-align: center;}#sk-container-id-1 div.sk-container {/* jupyter's `normalize.less` sets `[hidden] { display: none; }` but bootstrap.min.css set `[hidden] { display: none !important; }` so we also need the `!important` here to be able to override the default hidden behavior on the sphinx rendered scikit-learn.org. See: https://github.com/scikit-learn/scikit-learn/issues/21755 */display: inline-block !important;position: relative;}#sk-container-id-1 div.sk-text-repr-fallback {display: none;}</style><div id=\"sk-container-id-1\" class=\"sk-top-container\"><div class=\"sk-text-repr-fallback\"><pre>LogisticRegression()</pre><b>In a Jupyter environment, please rerun this cell to show the HTML representation or trust the notebook. <br />On GitHub, the HTML representation is unable to render, please try loading this page with nbviewer.org.</b></div><div class=\"sk-container\" hidden><div class=\"sk-item\"><div class=\"sk-estimator sk-toggleable\"><input class=\"sk-toggleable__control sk-hidden--visually\" id=\"sk-estimator-id-1\" type=\"checkbox\" checked><label for=\"sk-estimator-id-1\" class=\"sk-toggleable__label sk-toggleable__label-arrow\">LogisticRegression</label><div class=\"sk-toggleable__content\"><pre>LogisticRegression()</pre></div></div></div></div></div>"
      ],
      "text/plain": [
       "LogisticRegression()"
      ]
     },
     "execution_count": 21,
     "metadata": {},
     "output_type": "execute_result"
    }
   ],
   "source": [
    "# importing libraries\n",
    "from sklearn.linear_model import LogisticRegression\n",
    "lreg = LogisticRegression()\n",
    "lreg.fit(X_train_transformed,y_train)"
   ]
  },
  {
   "cell_type": "code",
   "execution_count": 22,
   "id": "83ca84f0",
   "metadata": {
    "execution": {
     "iopub.execute_input": "2024-05-26T23:52:04.926657Z",
     "iopub.status.busy": "2024-05-26T23:52:04.926239Z",
     "iopub.status.idle": "2024-05-26T23:52:04.935507Z",
     "shell.execute_reply": "2024-05-26T23:52:04.934579Z"
    },
    "papermill": {
     "duration": 0.026797,
     "end_time": "2024-05-26T23:52:04.937717",
     "exception": false,
     "start_time": "2024-05-26T23:52:04.910920",
     "status": "completed"
    },
    "tags": []
   },
   "outputs": [
    {
     "data": {
      "text/plain": [
       "0.4714285714285714"
      ]
     },
     "execution_count": 22,
     "metadata": {},
     "output_type": "execute_result"
    }
   ],
   "source": [
    "from sklearn.metrics import accuracy_score\n",
    "# predicting values and checking accuracy\n",
    "lpred = lreg.predict(x_test_transformed)\n",
    "accuracy_score(lpred , y_test)"
   ]
  },
  {
   "cell_type": "code",
   "execution_count": 23,
   "id": "eb398cdc",
   "metadata": {
    "execution": {
     "iopub.execute_input": "2024-05-26T23:52:04.966074Z",
     "iopub.status.busy": "2024-05-26T23:52:04.965699Z",
     "iopub.status.idle": "2024-05-26T23:52:04.970222Z",
     "shell.execute_reply": "2024-05-26T23:52:04.969181Z"
    },
    "papermill": {
     "duration": 0.02188,
     "end_time": "2024-05-26T23:52:04.972798",
     "exception": false,
     "start_time": "2024-05-26T23:52:04.950918",
     "status": "completed"
    },
    "tags": []
   },
   "outputs": [],
   "source": [
    "#importing libraries\n",
    "from sklearn.neighbors import KNeighborsClassifier"
   ]
  },
  {
   "cell_type": "code",
   "execution_count": 24,
   "id": "8838384e",
   "metadata": {
    "execution": {
     "iopub.execute_input": "2024-05-26T23:52:05.001800Z",
     "iopub.status.busy": "2024-05-26T23:52:05.001428Z",
     "iopub.status.idle": "2024-05-26T23:52:05.011070Z",
     "shell.execute_reply": "2024-05-26T23:52:05.009952Z"
    },
    "papermill": {
     "duration": 0.027062,
     "end_time": "2024-05-26T23:52:05.013537",
     "exception": false,
     "start_time": "2024-05-26T23:52:04.986475",
     "status": "completed"
    },
    "tags": []
   },
   "outputs": [
    {
     "data": {
      "text/html": [
       "<style>#sk-container-id-2 {color: black;background-color: white;}#sk-container-id-2 pre{padding: 0;}#sk-container-id-2 div.sk-toggleable {background-color: white;}#sk-container-id-2 label.sk-toggleable__label {cursor: pointer;display: block;width: 100%;margin-bottom: 0;padding: 0.3em;box-sizing: border-box;text-align: center;}#sk-container-id-2 label.sk-toggleable__label-arrow:before {content: \"▸\";float: left;margin-right: 0.25em;color: #696969;}#sk-container-id-2 label.sk-toggleable__label-arrow:hover:before {color: black;}#sk-container-id-2 div.sk-estimator:hover label.sk-toggleable__label-arrow:before {color: black;}#sk-container-id-2 div.sk-toggleable__content {max-height: 0;max-width: 0;overflow: hidden;text-align: left;background-color: #f0f8ff;}#sk-container-id-2 div.sk-toggleable__content pre {margin: 0.2em;color: black;border-radius: 0.25em;background-color: #f0f8ff;}#sk-container-id-2 input.sk-toggleable__control:checked~div.sk-toggleable__content {max-height: 200px;max-width: 100%;overflow: auto;}#sk-container-id-2 input.sk-toggleable__control:checked~label.sk-toggleable__label-arrow:before {content: \"▾\";}#sk-container-id-2 div.sk-estimator input.sk-toggleable__control:checked~label.sk-toggleable__label {background-color: #d4ebff;}#sk-container-id-2 div.sk-label input.sk-toggleable__control:checked~label.sk-toggleable__label {background-color: #d4ebff;}#sk-container-id-2 input.sk-hidden--visually {border: 0;clip: rect(1px 1px 1px 1px);clip: rect(1px, 1px, 1px, 1px);height: 1px;margin: -1px;overflow: hidden;padding: 0;position: absolute;width: 1px;}#sk-container-id-2 div.sk-estimator {font-family: monospace;background-color: #f0f8ff;border: 1px dotted black;border-radius: 0.25em;box-sizing: border-box;margin-bottom: 0.5em;}#sk-container-id-2 div.sk-estimator:hover {background-color: #d4ebff;}#sk-container-id-2 div.sk-parallel-item::after {content: \"\";width: 100%;border-bottom: 1px solid gray;flex-grow: 1;}#sk-container-id-2 div.sk-label:hover label.sk-toggleable__label {background-color: #d4ebff;}#sk-container-id-2 div.sk-serial::before {content: \"\";position: absolute;border-left: 1px solid gray;box-sizing: border-box;top: 0;bottom: 0;left: 50%;z-index: 0;}#sk-container-id-2 div.sk-serial {display: flex;flex-direction: column;align-items: center;background-color: white;padding-right: 0.2em;padding-left: 0.2em;position: relative;}#sk-container-id-2 div.sk-item {position: relative;z-index: 1;}#sk-container-id-2 div.sk-parallel {display: flex;align-items: stretch;justify-content: center;background-color: white;position: relative;}#sk-container-id-2 div.sk-item::before, #sk-container-id-2 div.sk-parallel-item::before {content: \"\";position: absolute;border-left: 1px solid gray;box-sizing: border-box;top: 0;bottom: 0;left: 50%;z-index: -1;}#sk-container-id-2 div.sk-parallel-item {display: flex;flex-direction: column;z-index: 1;position: relative;background-color: white;}#sk-container-id-2 div.sk-parallel-item:first-child::after {align-self: flex-end;width: 50%;}#sk-container-id-2 div.sk-parallel-item:last-child::after {align-self: flex-start;width: 50%;}#sk-container-id-2 div.sk-parallel-item:only-child::after {width: 0;}#sk-container-id-2 div.sk-dashed-wrapped {border: 1px dashed gray;margin: 0 0.4em 0.5em 0.4em;box-sizing: border-box;padding-bottom: 0.4em;background-color: white;}#sk-container-id-2 div.sk-label label {font-family: monospace;font-weight: bold;display: inline-block;line-height: 1.2em;}#sk-container-id-2 div.sk-label-container {text-align: center;}#sk-container-id-2 div.sk-container {/* jupyter's `normalize.less` sets `[hidden] { display: none; }` but bootstrap.min.css set `[hidden] { display: none !important; }` so we also need the `!important` here to be able to override the default hidden behavior on the sphinx rendered scikit-learn.org. See: https://github.com/scikit-learn/scikit-learn/issues/21755 */display: inline-block !important;position: relative;}#sk-container-id-2 div.sk-text-repr-fallback {display: none;}</style><div id=\"sk-container-id-2\" class=\"sk-top-container\"><div class=\"sk-text-repr-fallback\"><pre>KNeighborsClassifier()</pre><b>In a Jupyter environment, please rerun this cell to show the HTML representation or trust the notebook. <br />On GitHub, the HTML representation is unable to render, please try loading this page with nbviewer.org.</b></div><div class=\"sk-container\" hidden><div class=\"sk-item\"><div class=\"sk-estimator sk-toggleable\"><input class=\"sk-toggleable__control sk-hidden--visually\" id=\"sk-estimator-id-2\" type=\"checkbox\" checked><label for=\"sk-estimator-id-2\" class=\"sk-toggleable__label sk-toggleable__label-arrow\">KNeighborsClassifier</label><div class=\"sk-toggleable__content\"><pre>KNeighborsClassifier()</pre></div></div></div></div></div>"
      ],
      "text/plain": [
       "KNeighborsClassifier()"
      ]
     },
     "execution_count": 24,
     "metadata": {},
     "output_type": "execute_result"
    }
   ],
   "source": [
    "#implementing KNN\n",
    "knn = KNeighborsClassifier()\n",
    "knn.fit(X_train_transformed,y_train)"
   ]
  },
  {
   "cell_type": "code",
   "execution_count": 25,
   "id": "681da68a",
   "metadata": {
    "execution": {
     "iopub.execute_input": "2024-05-26T23:52:05.042913Z",
     "iopub.status.busy": "2024-05-26T23:52:05.041884Z",
     "iopub.status.idle": "2024-05-26T23:52:05.057437Z",
     "shell.execute_reply": "2024-05-26T23:52:05.056088Z"
    },
    "papermill": {
     "duration": 0.032847,
     "end_time": "2024-05-26T23:52:05.059805",
     "exception": false,
     "start_time": "2024-05-26T23:52:05.026958",
     "status": "completed"
    },
    "tags": []
   },
   "outputs": [
    {
     "data": {
      "text/plain": [
       "0.4142857142857143"
      ]
     },
     "execution_count": 25,
     "metadata": {},
     "output_type": "execute_result"
    }
   ],
   "source": [
    "#predicting values and testing accuracy\n",
    "kpred = knn.predict(x_test_transformed)\n",
    "accuracy_score(kpred,y_test)"
   ]
  },
  {
   "cell_type": "code",
   "execution_count": 26,
   "id": "4861f8bd",
   "metadata": {
    "execution": {
     "iopub.execute_input": "2024-05-26T23:52:05.089237Z",
     "iopub.status.busy": "2024-05-26T23:52:05.088593Z",
     "iopub.status.idle": "2024-05-26T23:52:05.103510Z",
     "shell.execute_reply": "2024-05-26T23:52:05.102479Z"
    },
    "papermill": {
     "duration": 0.032905,
     "end_time": "2024-05-26T23:52:05.106356",
     "exception": false,
     "start_time": "2024-05-26T23:52:05.073451",
     "status": "completed"
    },
    "tags": []
   },
   "outputs": [],
   "source": [
    "from sklearn.compose import ColumnTransformer\n",
    "from sklearn.pipeline import Pipeline\n",
    "from sklearn.impute import SimpleImputer\n",
    "from sklearn.preprocessing import OneHotEncoder\n",
    "\n",
    "# Preprocessing for numerical data\n",
    "numerical_transformer = SimpleImputer(strategy='constant')\n",
    "\n",
    "# Preprocessing for categorical data\n",
    "categorical_transformer = Pipeline(steps=[\n",
    "    ('imputer', SimpleImputer(strategy='most_frequent')),\n",
    "    ('onehot', OneHotEncoder(handle_unknown='ignore'))\n",
    "])\n",
    "\n",
    "# Bundle preprocessing for numerical and categorical data\n",
    "preprocessor = ColumnTransformer(\n",
    "    transformers=[\n",
    "        ('num', numerical_transformer, numerical_cols),\n",
    "        ('cat', categorical_transformer, categorical_cols)\n",
    "    ])"
   ]
  },
  {
   "cell_type": "code",
   "execution_count": 27,
   "id": "2f4cf3ba",
   "metadata": {
    "execution": {
     "iopub.execute_input": "2024-05-26T23:52:05.135663Z",
     "iopub.status.busy": "2024-05-26T23:52:05.135245Z",
     "iopub.status.idle": "2024-05-26T23:52:05.402379Z",
     "shell.execute_reply": "2024-05-26T23:52:05.400824Z"
    },
    "papermill": {
     "duration": 0.284798,
     "end_time": "2024-05-26T23:52:05.405033",
     "exception": false,
     "start_time": "2024-05-26T23:52:05.120235",
     "status": "completed"
    },
    "tags": []
   },
   "outputs": [
    {
     "name": "stdout",
     "output_type": "stream",
     "text": [
      "Model accuracy: 0.70\n"
     ]
    }
   ],
   "source": [
    "# Define the classifier model\n",
    "classifier = RandomForestClassifier(n_estimators=100, random_state=0)\n",
    "\n",
    "# Create the final pipeline\n",
    "pipeline = Pipeline(steps=[\n",
    "    ('preprocessor', preprocessor),\n",
    "    ('classifier', classifier)\n",
    "])\n",
    "\n",
    "# Fit the pipeline on training data\n",
    "pipeline.fit(X_train, y_train)\n",
    "\n",
    "# Evaluate the pipeline on test data\n",
    "accuracy = pipeline.score(X_test, y_test)\n",
    "print(f'Model accuracy: {accuracy:.2f}')"
   ]
  },
  {
   "cell_type": "code",
   "execution_count": 28,
   "id": "0d50f40c",
   "metadata": {
    "execution": {
     "iopub.execute_input": "2024-05-26T23:52:05.434313Z",
     "iopub.status.busy": "2024-05-26T23:52:05.433891Z",
     "iopub.status.idle": "2024-05-26T23:52:06.771262Z",
     "shell.execute_reply": "2024-05-26T23:52:06.769767Z"
    },
    "papermill": {
     "duration": 1.355292,
     "end_time": "2024-05-26T23:52:06.774035",
     "exception": false,
     "start_time": "2024-05-26T23:52:05.418743",
     "status": "completed"
    },
    "tags": []
   },
   "outputs": [
    {
     "name": "stdout",
     "output_type": "stream",
     "text": [
      "Logistic Regression - Mean Accuracy: 0.6486 | Std Accuracy: 0.0857\n",
      "K-Nearest Neighbors - Mean Accuracy: 0.6021 | Std Accuracy: 0.0316\n"
     ]
    },
    {
     "name": "stderr",
     "output_type": "stream",
     "text": [
      "/opt/conda/lib/python3.10/site-packages/sklearn/linear_model/_logistic.py:458: ConvergenceWarning: lbfgs failed to converge (status=1):\n",
      "STOP: TOTAL NO. of ITERATIONS REACHED LIMIT.\n",
      "\n",
      "Increase the number of iterations (max_iter) or scale the data as shown in:\n",
      "    https://scikit-learn.org/stable/modules/preprocessing.html\n",
      "Please also refer to the documentation for alternative solver options:\n",
      "    https://scikit-learn.org/stable/modules/linear_model.html#logistic-regression\n",
      "  n_iter_i = _check_optimize_result(\n",
      "/opt/conda/lib/python3.10/site-packages/sklearn/linear_model/_logistic.py:458: ConvergenceWarning: lbfgs failed to converge (status=1):\n",
      "STOP: TOTAL NO. of ITERATIONS REACHED LIMIT.\n",
      "\n",
      "Increase the number of iterations (max_iter) or scale the data as shown in:\n",
      "    https://scikit-learn.org/stable/modules/preprocessing.html\n",
      "Please also refer to the documentation for alternative solver options:\n",
      "    https://scikit-learn.org/stable/modules/linear_model.html#logistic-regression\n",
      "  n_iter_i = _check_optimize_result(\n",
      "/opt/conda/lib/python3.10/site-packages/sklearn/linear_model/_logistic.py:458: ConvergenceWarning: lbfgs failed to converge (status=1):\n",
      "STOP: TOTAL NO. of ITERATIONS REACHED LIMIT.\n",
      "\n",
      "Increase the number of iterations (max_iter) or scale the data as shown in:\n",
      "    https://scikit-learn.org/stable/modules/preprocessing.html\n",
      "Please also refer to the documentation for alternative solver options:\n",
      "    https://scikit-learn.org/stable/modules/linear_model.html#logistic-regression\n",
      "  n_iter_i = _check_optimize_result(\n"
     ]
    },
    {
     "name": "stdout",
     "output_type": "stream",
     "text": [
      "Random Forest - Mean Accuracy: 0.6526 | Std Accuracy: 0.0472\n"
     ]
    }
   ],
   "source": [
    "from sklearn.model_selection import cross_val_score\n",
    "\n",
    "# Define the algorithms\n",
    "algorithms = {\n",
    "    'Logistic Regression': LogisticRegression(),\n",
    "    'K-Nearest Neighbors': KNeighborsClassifier(),\n",
    "    'Random Forest': RandomForestClassifier(n_estimators=100, random_state=0)\n",
    "}\n",
    "\n",
    "# Compare the algorithms\n",
    "results = compare_algorithms(preprocessor.fit_transform(X_train), y_train, algorithms)"
   ]
  }
 ],
 "metadata": {
  "kaggle": {
   "accelerator": "none",
   "dataSources": [
    {
     "datasetId": 3316241,
     "sourceId": 7449146,
     "sourceType": "datasetVersion"
    }
   ],
   "dockerImageVersionId": 30698,
   "isGpuEnabled": false,
   "isInternetEnabled": true,
   "language": "python",
   "sourceType": "notebook"
  },
  "kernelspec": {
   "display_name": "Python 3",
   "language": "python",
   "name": "python3"
  },
  "language_info": {
   "codemirror_mode": {
    "name": "ipython",
    "version": 3
   },
   "file_extension": ".py",
   "mimetype": "text/x-python",
   "name": "python",
   "nbconvert_exporter": "python",
   "pygments_lexer": "ipython3",
   "version": "3.10.13"
  },
  "papermill": {
   "default_parameters": {},
   "duration": 13.09104,
   "end_time": "2024-05-26T23:52:07.514059",
   "environment_variables": {},
   "exception": null,
   "input_path": "__notebook__.ipynb",
   "output_path": "__notebook__.ipynb",
   "parameters": {},
   "start_time": "2024-05-26T23:51:54.423019",
   "version": "2.5.0"
  }
 },
 "nbformat": 4,
 "nbformat_minor": 5
}
